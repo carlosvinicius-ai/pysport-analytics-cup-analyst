{
 "cells": [
  {
   "cell_type": "markdown",
   "id": "de2ab846",
   "metadata": {},
   "source": [
    "# SkillCorner x PySport Analytics Cup — Analyst Track\n",
    "Author: Carlos Vinicius\n",
    "Date: 2025-10-22\n",
    "\n",
    "===========================================\n",
    "\n",
    "1. Importação das bibliotecas\n",
    "\n",
    "==========================================="
   ]
  },
  {
   "cell_type": "code",
   "execution_count": null,
   "id": "abd5a69c",
   "metadata": {},
   "outputs": [],
   "source": [
    "import pandas as pd\n",
    "import numpy as np\n",
    "import matplotlib.pyplot as plt\n",
    "import seaborn as sns\n",
    "import plotly.express as px\n",
    "import json\n",
    "import os"
   ]
  },
  {
   "cell_type": "markdown",
   "id": "1d73d26b",
   "metadata": {},
   "source": [
    "2. Importação de arquivos"
   ]
  },
  {
   "cell_type": "code",
   "execution_count": 20,
   "id": "529ce926",
   "metadata": {},
   "outputs": [],
   "source": [
    "url_json_matches = 'https://raw.githubusercontent.com/SkillCorner/opendata/refs/heads/master/data/matches.json'\n",
    "matches_df = pd.read_json(url_json_matches)"
   ]
  },
  {
   "cell_type": "code",
   "execution_count": 21,
   "id": "fc05ef59",
   "metadata": {},
   "outputs": [
    {
     "name": "stdout",
     "output_type": "stream",
     "text": [
      "Número de partidas: 10\n"
     ]
    },
    {
     "data": {
      "text/html": [
       "<div>\n",
       "<style scoped>\n",
       "    .dataframe tbody tr th:only-of-type {\n",
       "        vertical-align: middle;\n",
       "    }\n",
       "\n",
       "    .dataframe tbody tr th {\n",
       "        vertical-align: top;\n",
       "    }\n",
       "\n",
       "    .dataframe thead th {\n",
       "        text-align: right;\n",
       "    }\n",
       "</style>\n",
       "<table border=\"1\" class=\"dataframe\">\n",
       "  <thead>\n",
       "    <tr style=\"text-align: right;\">\n",
       "      <th></th>\n",
       "      <th>id</th>\n",
       "      <th>date_time</th>\n",
       "      <th>home_team</th>\n",
       "      <th>away_team</th>\n",
       "      <th>status</th>\n",
       "      <th>competition_id</th>\n",
       "      <th>season_id</th>\n",
       "      <th>competition_edition_id</th>\n",
       "    </tr>\n",
       "  </thead>\n",
       "  <tbody>\n",
       "    <tr>\n",
       "      <th>0</th>\n",
       "      <td>2017461</td>\n",
       "      <td>2025-05-17 09:35:00+00:00</td>\n",
       "      <td>{'id': 868, 'short_name': 'Melbourne V FC'}</td>\n",
       "      <td>{'id': 4177, 'short_name': 'Auckland FC'}</td>\n",
       "      <td>closed</td>\n",
       "      <td>61</td>\n",
       "      <td>95</td>\n",
       "      <td>870</td>\n",
       "    </tr>\n",
       "    <tr>\n",
       "      <th>1</th>\n",
       "      <td>2015213</td>\n",
       "      <td>2025-05-03 08:00:00+00:00</td>\n",
       "      <td>{'id': 1803, 'short_name': 'Western United'}</td>\n",
       "      <td>{'id': 4177, 'short_name': 'Auckland FC'}</td>\n",
       "      <td>closed</td>\n",
       "      <td>61</td>\n",
       "      <td>95</td>\n",
       "      <td>870</td>\n",
       "    </tr>\n",
       "    <tr>\n",
       "      <th>2</th>\n",
       "      <td>2013725</td>\n",
       "      <td>2025-04-27 07:00:00+00:00</td>\n",
       "      <td>{'id': 1803, 'short_name': 'Western United'}</td>\n",
       "      <td>{'id': 869, 'short_name': 'Sydney FC'}</td>\n",
       "      <td>closed</td>\n",
       "      <td>61</td>\n",
       "      <td>95</td>\n",
       "      <td>870</td>\n",
       "    </tr>\n",
       "    <tr>\n",
       "      <th>3</th>\n",
       "      <td>2011166</td>\n",
       "      <td>2025-04-12 05:00:00+00:00</td>\n",
       "      <td>{'id': 867, 'short_name': 'Wellington P FC'}</td>\n",
       "      <td>{'id': 868, 'short_name': 'Melbourne V FC'}</td>\n",
       "      <td>closed</td>\n",
       "      <td>61</td>\n",
       "      <td>95</td>\n",
       "      <td>870</td>\n",
       "    </tr>\n",
       "    <tr>\n",
       "      <th>4</th>\n",
       "      <td>2006229</td>\n",
       "      <td>2025-03-07 08:35:00+00:00</td>\n",
       "      <td>{'id': 2380, 'short_name': 'Melbourne City'}</td>\n",
       "      <td>{'id': 1804, 'short_name': 'Macarthur FC'}</td>\n",
       "      <td>closed</td>\n",
       "      <td>61</td>\n",
       "      <td>95</td>\n",
       "      <td>870</td>\n",
       "    </tr>\n",
       "  </tbody>\n",
       "</table>\n",
       "</div>"
      ],
      "text/plain": [
       "        id                 date_time  \\\n",
       "0  2017461 2025-05-17 09:35:00+00:00   \n",
       "1  2015213 2025-05-03 08:00:00+00:00   \n",
       "2  2013725 2025-04-27 07:00:00+00:00   \n",
       "3  2011166 2025-04-12 05:00:00+00:00   \n",
       "4  2006229 2025-03-07 08:35:00+00:00   \n",
       "\n",
       "                                      home_team  \\\n",
       "0   {'id': 868, 'short_name': 'Melbourne V FC'}   \n",
       "1  {'id': 1803, 'short_name': 'Western United'}   \n",
       "2  {'id': 1803, 'short_name': 'Western United'}   \n",
       "3  {'id': 867, 'short_name': 'Wellington P FC'}   \n",
       "4  {'id': 2380, 'short_name': 'Melbourne City'}   \n",
       "\n",
       "                                     away_team  status  competition_id  \\\n",
       "0    {'id': 4177, 'short_name': 'Auckland FC'}  closed              61   \n",
       "1    {'id': 4177, 'short_name': 'Auckland FC'}  closed              61   \n",
       "2       {'id': 869, 'short_name': 'Sydney FC'}  closed              61   \n",
       "3  {'id': 868, 'short_name': 'Melbourne V FC'}  closed              61   \n",
       "4   {'id': 1804, 'short_name': 'Macarthur FC'}  closed              61   \n",
       "\n",
       "   season_id  competition_edition_id  \n",
       "0         95                     870  \n",
       "1         95                     870  \n",
       "2         95                     870  \n",
       "3         95                     870  \n",
       "4         95                     870  "
      ]
     },
     "execution_count": 21,
     "metadata": {},
     "output_type": "execute_result"
    }
   ],
   "source": [
    "print(\"Número de partidas:\", len(matches_df))\n",
    "\n",
    "matches_df.head()"
   ]
  }
 ],
 "metadata": {
  "kernelspec": {
   "display_name": ".venv",
   "language": "python",
   "name": "python3"
  },
  "language_info": {
   "codemirror_mode": {
    "name": "ipython",
    "version": 3
   },
   "file_extension": ".py",
   "mimetype": "text/x-python",
   "name": "python",
   "nbconvert_exporter": "python",
   "pygments_lexer": "ipython3",
   "version": "3.12.6"
  }
 },
 "nbformat": 4,
 "nbformat_minor": 5
}
